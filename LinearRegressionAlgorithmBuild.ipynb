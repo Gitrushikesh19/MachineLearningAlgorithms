{
 "cells": [
  {
   "cell_type": "code",
   "execution_count": 1,
   "id": "ac0c93d7",
   "metadata": {},
   "outputs": [],
   "source": [
    "class MLR:\n",
    "    \n",
    "    def __init__(self):\n",
    "        self.intercept_=None\n",
    "        self.coef_=None\n",
    "    \n",
    "    def fit(self, X_train, y_train):\n",
    "        X_train = np.insert(X_train, 0, 1, axis=1)\n",
    "        # Calculate the coeffs\n",
    "        betas = np.linalg.inv(np.dot(X_train, X_train.T)).dot(X_train.T).dot(y_train) #((X*X^T)^-1*(X^T*Y))\n",
    "        self.coef_ = betas[1:]\n",
    "        self.intercept_ = betas[0]\n",
    "    \n",
    "    def predict(self, X_test):\n",
    "        y_pred = self.intercept_ + np.dot(X_test, self.coef_)\n",
    "        return y_pred"
   ]
  },
  {
   "cell_type": "code",
   "execution_count": 2,
   "id": "8bcd53a0",
   "metadata": {},
   "outputs": [],
   "source": [
    "class LR:\n",
    "    \n",
    "    def __init__(self, m=None, b=None):\n",
    "        self.m = m\n",
    "        self.b = b\n",
    "    \n",
    "    def fit(self, X_train, y_train):\n",
    "        num = 0\n",
    "        den = 0\n",
    "        \n",
    "        for i in range(X_train.shape[0]):\n",
    "            num = num + ((X_train[i]-X_train.mean())*(y_train[i]-y_train.mean())) # (X-Xbar)(y-ybar)\n",
    "            den = den + ((X_train[i]-X_train.mean())*(X_train[i]-X_train.mean())) # (X-Xbar)^2\n",
    "        \n",
    "        self.m = num/den\n",
    "        self.b = y_train.mean() - (self.m*x_train.mean())\n",
    "    \n",
    "    def predict(self, X_test):\n",
    "        y_pred = self.m*X_test + self.b\n",
    "        return y_pred\n",
    "    "
   ]
  },
  {
   "cell_type": "code",
   "execution_count": null,
   "id": "10520cb8",
   "metadata": {},
   "outputs": [],
   "source": []
  }
 ],
 "metadata": {
  "kernelspec": {
   "display_name": "Python 3 (ipykernel)",
   "language": "python",
   "name": "python3"
  },
  "language_info": {
   "codemirror_mode": {
    "name": "ipython",
    "version": 3
   },
   "file_extension": ".py",
   "mimetype": "text/x-python",
   "name": "python",
   "nbconvert_exporter": "python",
   "pygments_lexer": "ipython3",
   "version": "3.9.18"
  }
 },
 "nbformat": 4,
 "nbformat_minor": 5
}
